{
 "cells": [
  {
   "cell_type": "code",
   "execution_count": 2,
   "id": "072268c8",
   "metadata": {},
   "outputs": [],
   "source": [
    "# importing the basic libraries\n",
    "import pandas as pd\n",
    "import numpy as np\n",
    "import matplotlib.pyplot as plt\n",
    "plt.style.use('seaborn')\n",
    "from datetime import datetime, timedelta\n",
    "\n",
    "\n",
    "# Setting the default display format for floating-point numbers\n",
    "pd.options.display.float_format = '{:.2f}'.format"
   ]
  },
  {
   "cell_type": "code",
   "execution_count": 3,
   "id": "d59265bc",
   "metadata": {},
   "outputs": [],
   "source": [
    "# importing the data set\n",
    "df = pd.read_csv(\"Coffee.csv\")"
   ]
  },
  {
   "cell_type": "code",
   "execution_count": 4,
   "id": "aed2b067",
   "metadata": {},
   "outputs": [
    {
     "data": {
      "text/html": [
       "<div>\n",
       "<style scoped>\n",
       "    .dataframe tbody tr th:only-of-type {\n",
       "        vertical-align: middle;\n",
       "    }\n",
       "\n",
       "    .dataframe tbody tr th {\n",
       "        vertical-align: top;\n",
       "    }\n",
       "\n",
       "    .dataframe thead th {\n",
       "        text-align: right;\n",
       "    }\n",
       "</style>\n",
       "<table border=\"1\" class=\"dataframe\">\n",
       "  <thead>\n",
       "    <tr style=\"text-align: right;\">\n",
       "      <th></th>\n",
       "      <th>Area Code</th>\n",
       "      <th>Date</th>\n",
       "      <th>Market</th>\n",
       "      <th>Market Size</th>\n",
       "      <th>Product</th>\n",
       "      <th>Product Line</th>\n",
       "      <th>Product Type</th>\n",
       "      <th>State</th>\n",
       "      <th>Type</th>\n",
       "      <th>Budget COGS</th>\n",
       "      <th>Budget Margin</th>\n",
       "      <th>Budget Profit</th>\n",
       "      <th>Budget Sales</th>\n",
       "      <th>COGS</th>\n",
       "      <th>Inventory</th>\n",
       "      <th>Margin</th>\n",
       "      <th>Marketing</th>\n",
       "      <th>Profit</th>\n",
       "      <th>Sales</th>\n",
       "      <th>Total Expenses</th>\n",
       "    </tr>\n",
       "  </thead>\n",
       "  <tbody>\n",
       "    <tr>\n",
       "      <th>0</th>\n",
       "      <td>719</td>\n",
       "      <td>40909</td>\n",
       "      <td>Central</td>\n",
       "      <td>Major Market</td>\n",
       "      <td>Amaretto</td>\n",
       "      <td>Beans</td>\n",
       "      <td>Coffee</td>\n",
       "      <td>Colorado</td>\n",
       "      <td>Regular</td>\n",
       "      <td>90</td>\n",
       "      <td>130</td>\n",
       "      <td>100</td>\n",
       "      <td>220</td>\n",
       "      <td>89</td>\n",
       "      <td>777</td>\n",
       "      <td>130</td>\n",
       "      <td>24</td>\n",
       "      <td>94</td>\n",
       "      <td>219</td>\n",
       "      <td>36</td>\n",
       "    </tr>\n",
       "    <tr>\n",
       "      <th>1</th>\n",
       "      <td>970</td>\n",
       "      <td>40909</td>\n",
       "      <td>Central</td>\n",
       "      <td>Major Market</td>\n",
       "      <td>Colombian</td>\n",
       "      <td>Beans</td>\n",
       "      <td>Coffee</td>\n",
       "      <td>Colorado</td>\n",
       "      <td>Regular</td>\n",
       "      <td>80</td>\n",
       "      <td>110</td>\n",
       "      <td>80</td>\n",
       "      <td>190</td>\n",
       "      <td>83</td>\n",
       "      <td>623</td>\n",
       "      <td>107</td>\n",
       "      <td>27</td>\n",
       "      <td>68</td>\n",
       "      <td>190</td>\n",
       "      <td>39</td>\n",
       "    </tr>\n",
       "    <tr>\n",
       "      <th>2</th>\n",
       "      <td>970</td>\n",
       "      <td>40909</td>\n",
       "      <td>Central</td>\n",
       "      <td>Major Market</td>\n",
       "      <td>Decaf Irish Cream</td>\n",
       "      <td>Beans</td>\n",
       "      <td>Coffee</td>\n",
       "      <td>Colorado</td>\n",
       "      <td>Decaf</td>\n",
       "      <td>100</td>\n",
       "      <td>140</td>\n",
       "      <td>110</td>\n",
       "      <td>240</td>\n",
       "      <td>95</td>\n",
       "      <td>821</td>\n",
       "      <td>139</td>\n",
       "      <td>26</td>\n",
       "      <td>101</td>\n",
       "      <td>234</td>\n",
       "      <td>38</td>\n",
       "    </tr>\n",
       "    <tr>\n",
       "      <th>3</th>\n",
       "      <td>303</td>\n",
       "      <td>40909</td>\n",
       "      <td>Central</td>\n",
       "      <td>Major Market</td>\n",
       "      <td>Green Tea</td>\n",
       "      <td>Leaves</td>\n",
       "      <td>Tea</td>\n",
       "      <td>Colorado</td>\n",
       "      <td>Regular</td>\n",
       "      <td>30</td>\n",
       "      <td>50</td>\n",
       "      <td>30</td>\n",
       "      <td>80</td>\n",
       "      <td>44</td>\n",
       "      <td>623</td>\n",
       "      <td>56</td>\n",
       "      <td>14</td>\n",
       "      <td>30</td>\n",
       "      <td>100</td>\n",
       "      <td>26</td>\n",
       "    </tr>\n",
       "    <tr>\n",
       "      <th>4</th>\n",
       "      <td>303</td>\n",
       "      <td>40909</td>\n",
       "      <td>Central</td>\n",
       "      <td>Major Market</td>\n",
       "      <td>Caffe Mocha</td>\n",
       "      <td>Beans</td>\n",
       "      <td>Espresso</td>\n",
       "      <td>Colorado</td>\n",
       "      <td>Regular</td>\n",
       "      <td>60</td>\n",
       "      <td>90</td>\n",
       "      <td>70</td>\n",
       "      <td>150</td>\n",
       "      <td>54</td>\n",
       "      <td>456</td>\n",
       "      <td>80</td>\n",
       "      <td>15</td>\n",
       "      <td>54</td>\n",
       "      <td>134</td>\n",
       "      <td>26</td>\n",
       "    </tr>\n",
       "  </tbody>\n",
       "</table>\n",
       "</div>"
      ],
      "text/plain": [
       "   Area Code   Date   Market   Market Size            Product Product Line  \\\n",
       "0        719  40909  Central  Major Market           Amaretto        Beans   \n",
       "1        970  40909  Central  Major Market          Colombian        Beans   \n",
       "2        970  40909  Central  Major Market  Decaf Irish Cream        Beans   \n",
       "3        303  40909  Central  Major Market          Green Tea       Leaves   \n",
       "4        303  40909  Central  Major Market        Caffe Mocha        Beans   \n",
       "\n",
       "  Product Type     State     Type  Budget COGS  Budget Margin  Budget Profit  \\\n",
       "0       Coffee  Colorado  Regular           90            130            100   \n",
       "1       Coffee  Colorado  Regular           80            110             80   \n",
       "2       Coffee  Colorado    Decaf          100            140            110   \n",
       "3          Tea  Colorado  Regular           30             50             30   \n",
       "4     Espresso  Colorado  Regular           60             90             70   \n",
       "\n",
       "   Budget Sales  COGS  Inventory  Margin  Marketing  Profit  Sales  \\\n",
       "0           220    89        777     130         24      94    219   \n",
       "1           190    83        623     107         27      68    190   \n",
       "2           240    95        821     139         26     101    234   \n",
       "3            80    44        623      56         14      30    100   \n",
       "4           150    54        456      80         15      54    134   \n",
       "\n",
       "   Total Expenses  \n",
       "0              36  \n",
       "1              39  \n",
       "2              38  \n",
       "3              26  \n",
       "4              26  "
      ]
     },
     "execution_count": 4,
     "metadata": {},
     "output_type": "execute_result"
    }
   ],
   "source": [
    "# Viewing the first five row of the data to get a sense of the content and structure\n",
    "df.head()"
   ]
  },
  {
   "cell_type": "code",
   "execution_count": 5,
   "id": "c5725f9c",
   "metadata": {},
   "outputs": [
    {
     "data": {
      "text/plain": [
       "(4248, 20)"
      ]
     },
     "execution_count": 5,
     "metadata": {},
     "output_type": "execute_result"
    }
   ],
   "source": [
    "# Checking the number of rows and columns present in the data\n",
    "df.shape"
   ]
  },
  {
   "cell_type": "code",
   "execution_count": 5,
   "id": "19bcc805",
   "metadata": {},
   "outputs": [
    {
     "name": "stdout",
     "output_type": "stream",
     "text": [
      "<class 'pandas.core.frame.DataFrame'>\n",
      "RangeIndex: 4248 entries, 0 to 4247\n",
      "Data columns (total 20 columns):\n",
      " #   Column          Non-Null Count  Dtype \n",
      "---  ------          --------------  ----- \n",
      " 0   Area Code       4248 non-null   int64 \n",
      " 1   Date            4248 non-null   int64 \n",
      " 2   Market          4248 non-null   object\n",
      " 3   Market Size     4248 non-null   object\n",
      " 4   Product         4248 non-null   object\n",
      " 5   Product Line    4248 non-null   object\n",
      " 6   Product Type    4248 non-null   object\n",
      " 7   State           4248 non-null   object\n",
      " 8   Type            4248 non-null   object\n",
      " 9   Budget COGS     4248 non-null   int64 \n",
      " 10  Budget Margin   4248 non-null   int64 \n",
      " 11  Budget Profit   4248 non-null   int64 \n",
      " 12  Budget Sales    4248 non-null   int64 \n",
      " 13  COGS            4248 non-null   int64 \n",
      " 14  Inventory       4248 non-null   int64 \n",
      " 15  Margin          4248 non-null   int64 \n",
      " 16  Marketing       4248 non-null   int64 \n",
      " 17  Profit          4248 non-null   int64 \n",
      " 18  Sales           4248 non-null   int64 \n",
      " 19  Total Expenses  4248 non-null   int64 \n",
      "dtypes: int64(13), object(7)\n",
      "memory usage: 663.9+ KB\n"
     ]
    }
   ],
   "source": [
    "# Checking to see the data types and also find missing values \n",
    "df.info()"
   ]
  },
  {
   "cell_type": "code",
   "execution_count": 6,
   "id": "361f9f2b",
   "metadata": {},
   "outputs": [
    {
     "name": "stdout",
     "output_type": "stream",
     "text": [
      "<class 'pandas.core.frame.DataFrame'>\n",
      "RangeIndex: 4248 entries, 0 to 4247\n",
      "Data columns (total 20 columns):\n",
      " #   Column          Non-Null Count  Dtype \n",
      "---  ------          --------------  ----- \n",
      " 0   Area Code       4248 non-null   object\n",
      " 1   Date            4248 non-null   int64 \n",
      " 2   Market          4248 non-null   object\n",
      " 3   Market Size     4248 non-null   object\n",
      " 4   Product         4248 non-null   object\n",
      " 5   Product Line    4248 non-null   object\n",
      " 6   Product Type    4248 non-null   object\n",
      " 7   State           4248 non-null   object\n",
      " 8   Type            4248 non-null   object\n",
      " 9   Budget COGS     4248 non-null   int64 \n",
      " 10  Budget Margin   4248 non-null   int64 \n",
      " 11  Budget Profit   4248 non-null   int64 \n",
      " 12  Budget Sales    4248 non-null   int64 \n",
      " 13  COGS            4248 non-null   int64 \n",
      " 14  Inventory       4248 non-null   int64 \n",
      " 15  Margin          4248 non-null   int64 \n",
      " 16  Marketing       4248 non-null   int64 \n",
      " 17  Profit          4248 non-null   int64 \n",
      " 18  Sales           4248 non-null   int64 \n",
      " 19  Total Expenses  4248 non-null   int64 \n",
      "dtypes: int64(12), object(8)\n",
      "memory usage: 663.9+ KB\n"
     ]
    }
   ],
   "source": [
    "# Changing the data type of the Area code from integer to string\n",
    "df[\"Area Code\"] = df[\"Area Code\"].astype(str)\n",
    "df.info()"
   ]
  },
  {
   "cell_type": "code",
   "execution_count": 7,
   "id": "a50a173a",
   "metadata": {},
   "outputs": [
    {
     "data": {
      "text/plain": [
       "Area Code         0\n",
       "Date              0\n",
       "Market            0\n",
       "Market Size       0\n",
       "Product           0\n",
       "Product Line      0\n",
       "Product Type      0\n",
       "State             0\n",
       "Type              0\n",
       "Budget COGS       0\n",
       "Budget Margin     0\n",
       "Budget Profit     0\n",
       "Budget Sales      0\n",
       "COGS              0\n",
       "Inventory         0\n",
       "Margin            0\n",
       "Marketing         0\n",
       "Profit            0\n",
       "Sales             0\n",
       "Total Expenses    0\n",
       "dtype: int64"
      ]
     },
     "execution_count": 7,
     "metadata": {},
     "output_type": "execute_result"
    }
   ],
   "source": [
    "# Checking for missing values\n",
    "df.isnull().sum()"
   ]
  },
  {
   "cell_type": "code",
   "execution_count": 8,
   "id": "1ec3038f",
   "metadata": {},
   "outputs": [
    {
     "data": {
      "text/plain": [
       "0"
      ]
     },
     "execution_count": 8,
     "metadata": {},
     "output_type": "execute_result"
    }
   ],
   "source": [
    "# Checking for duplicates\n",
    "df.duplicated().sum()"
   ]
  },
  {
   "cell_type": "code",
   "execution_count": 9,
   "id": "d95404a6",
   "metadata": {},
   "outputs": [],
   "source": [
    "# The Date is an integer and must be converted to a date format\n",
    "df[\"Date\"] = pd.to_datetime(\"1899-12-30\") + pd.to_timedelta(df[\"Date\"], unit = \"D\")"
   ]
  },
  {
   "cell_type": "code",
   "execution_count": 10,
   "id": "84da4484",
   "metadata": {},
   "outputs": [
    {
     "data": {
      "text/html": [
       "<div>\n",
       "<style scoped>\n",
       "    .dataframe tbody tr th:only-of-type {\n",
       "        vertical-align: middle;\n",
       "    }\n",
       "\n",
       "    .dataframe tbody tr th {\n",
       "        vertical-align: top;\n",
       "    }\n",
       "\n",
       "    .dataframe thead th {\n",
       "        text-align: right;\n",
       "    }\n",
       "</style>\n",
       "<table border=\"1\" class=\"dataframe\">\n",
       "  <thead>\n",
       "    <tr style=\"text-align: right;\">\n",
       "      <th></th>\n",
       "      <th>Area Code</th>\n",
       "      <th>Date</th>\n",
       "      <th>Market</th>\n",
       "      <th>Market Size</th>\n",
       "      <th>Product</th>\n",
       "      <th>Product Line</th>\n",
       "      <th>Product Type</th>\n",
       "      <th>State</th>\n",
       "      <th>Type</th>\n",
       "      <th>Budget COGS</th>\n",
       "      <th>Budget Margin</th>\n",
       "      <th>Budget Profit</th>\n",
       "      <th>Budget Sales</th>\n",
       "      <th>COGS</th>\n",
       "      <th>Inventory</th>\n",
       "      <th>Margin</th>\n",
       "      <th>Marketing</th>\n",
       "      <th>Profit</th>\n",
       "      <th>Sales</th>\n",
       "      <th>Total Expenses</th>\n",
       "    </tr>\n",
       "  </thead>\n",
       "  <tbody>\n",
       "    <tr>\n",
       "      <th>0</th>\n",
       "      <td>719</td>\n",
       "      <td>2012-01-01</td>\n",
       "      <td>Central</td>\n",
       "      <td>Major Market</td>\n",
       "      <td>Amaretto</td>\n",
       "      <td>Beans</td>\n",
       "      <td>Coffee</td>\n",
       "      <td>Colorado</td>\n",
       "      <td>Regular</td>\n",
       "      <td>90</td>\n",
       "      <td>130</td>\n",
       "      <td>100</td>\n",
       "      <td>220</td>\n",
       "      <td>89</td>\n",
       "      <td>777</td>\n",
       "      <td>130</td>\n",
       "      <td>24</td>\n",
       "      <td>94</td>\n",
       "      <td>219</td>\n",
       "      <td>36</td>\n",
       "    </tr>\n",
       "    <tr>\n",
       "      <th>1</th>\n",
       "      <td>970</td>\n",
       "      <td>2012-01-01</td>\n",
       "      <td>Central</td>\n",
       "      <td>Major Market</td>\n",
       "      <td>Colombian</td>\n",
       "      <td>Beans</td>\n",
       "      <td>Coffee</td>\n",
       "      <td>Colorado</td>\n",
       "      <td>Regular</td>\n",
       "      <td>80</td>\n",
       "      <td>110</td>\n",
       "      <td>80</td>\n",
       "      <td>190</td>\n",
       "      <td>83</td>\n",
       "      <td>623</td>\n",
       "      <td>107</td>\n",
       "      <td>27</td>\n",
       "      <td>68</td>\n",
       "      <td>190</td>\n",
       "      <td>39</td>\n",
       "    </tr>\n",
       "    <tr>\n",
       "      <th>2</th>\n",
       "      <td>970</td>\n",
       "      <td>2012-01-01</td>\n",
       "      <td>Central</td>\n",
       "      <td>Major Market</td>\n",
       "      <td>Decaf Irish Cream</td>\n",
       "      <td>Beans</td>\n",
       "      <td>Coffee</td>\n",
       "      <td>Colorado</td>\n",
       "      <td>Decaf</td>\n",
       "      <td>100</td>\n",
       "      <td>140</td>\n",
       "      <td>110</td>\n",
       "      <td>240</td>\n",
       "      <td>95</td>\n",
       "      <td>821</td>\n",
       "      <td>139</td>\n",
       "      <td>26</td>\n",
       "      <td>101</td>\n",
       "      <td>234</td>\n",
       "      <td>38</td>\n",
       "    </tr>\n",
       "    <tr>\n",
       "      <th>3</th>\n",
       "      <td>303</td>\n",
       "      <td>2012-01-01</td>\n",
       "      <td>Central</td>\n",
       "      <td>Major Market</td>\n",
       "      <td>Green Tea</td>\n",
       "      <td>Leaves</td>\n",
       "      <td>Tea</td>\n",
       "      <td>Colorado</td>\n",
       "      <td>Regular</td>\n",
       "      <td>30</td>\n",
       "      <td>50</td>\n",
       "      <td>30</td>\n",
       "      <td>80</td>\n",
       "      <td>44</td>\n",
       "      <td>623</td>\n",
       "      <td>56</td>\n",
       "      <td>14</td>\n",
       "      <td>30</td>\n",
       "      <td>100</td>\n",
       "      <td>26</td>\n",
       "    </tr>\n",
       "    <tr>\n",
       "      <th>4</th>\n",
       "      <td>303</td>\n",
       "      <td>2012-01-01</td>\n",
       "      <td>Central</td>\n",
       "      <td>Major Market</td>\n",
       "      <td>Caffe Mocha</td>\n",
       "      <td>Beans</td>\n",
       "      <td>Espresso</td>\n",
       "      <td>Colorado</td>\n",
       "      <td>Regular</td>\n",
       "      <td>60</td>\n",
       "      <td>90</td>\n",
       "      <td>70</td>\n",
       "      <td>150</td>\n",
       "      <td>54</td>\n",
       "      <td>456</td>\n",
       "      <td>80</td>\n",
       "      <td>15</td>\n",
       "      <td>54</td>\n",
       "      <td>134</td>\n",
       "      <td>26</td>\n",
       "    </tr>\n",
       "  </tbody>\n",
       "</table>\n",
       "</div>"
      ],
      "text/plain": [
       "  Area Code       Date   Market   Market Size            Product Product Line  \\\n",
       "0       719 2012-01-01  Central  Major Market           Amaretto        Beans   \n",
       "1       970 2012-01-01  Central  Major Market          Colombian        Beans   \n",
       "2       970 2012-01-01  Central  Major Market  Decaf Irish Cream        Beans   \n",
       "3       303 2012-01-01  Central  Major Market          Green Tea       Leaves   \n",
       "4       303 2012-01-01  Central  Major Market        Caffe Mocha        Beans   \n",
       "\n",
       "  Product Type     State     Type  Budget COGS  Budget Margin  Budget Profit  \\\n",
       "0       Coffee  Colorado  Regular           90            130            100   \n",
       "1       Coffee  Colorado  Regular           80            110             80   \n",
       "2       Coffee  Colorado    Decaf          100            140            110   \n",
       "3          Tea  Colorado  Regular           30             50             30   \n",
       "4     Espresso  Colorado  Regular           60             90             70   \n",
       "\n",
       "   Budget Sales  COGS  Inventory  Margin  Marketing  Profit  Sales  \\\n",
       "0           220    89        777     130         24      94    219   \n",
       "1           190    83        623     107         27      68    190   \n",
       "2           240    95        821     139         26     101    234   \n",
       "3            80    44        623      56         14      30    100   \n",
       "4           150    54        456      80         15      54    134   \n",
       "\n",
       "   Total Expenses  \n",
       "0              36  \n",
       "1              39  \n",
       "2              38  \n",
       "3              26  \n",
       "4              26  "
      ]
     },
     "execution_count": 10,
     "metadata": {},
     "output_type": "execute_result"
    }
   ],
   "source": [
    "df.head()"
   ]
  },
  {
   "cell_type": "code",
   "execution_count": 11,
   "id": "7754674a",
   "metadata": {},
   "outputs": [
    {
     "data": {
      "text/html": [
       "<div>\n",
       "<style scoped>\n",
       "    .dataframe tbody tr th:only-of-type {\n",
       "        vertical-align: middle;\n",
       "    }\n",
       "\n",
       "    .dataframe tbody tr th {\n",
       "        vertical-align: top;\n",
       "    }\n",
       "\n",
       "    .dataframe thead th {\n",
       "        text-align: right;\n",
       "    }\n",
       "</style>\n",
       "<table border=\"1\" class=\"dataframe\">\n",
       "  <thead>\n",
       "    <tr style=\"text-align: right;\">\n",
       "      <th></th>\n",
       "      <th>Budget COGS</th>\n",
       "      <th>Budget Margin</th>\n",
       "      <th>Budget Profit</th>\n",
       "      <th>Budget Sales</th>\n",
       "      <th>COGS</th>\n",
       "      <th>Inventory</th>\n",
       "      <th>Margin</th>\n",
       "      <th>Marketing</th>\n",
       "      <th>Profit</th>\n",
       "      <th>Sales</th>\n",
       "      <th>Total Expenses</th>\n",
       "    </tr>\n",
       "  </thead>\n",
       "  <tbody>\n",
       "    <tr>\n",
       "      <th>count</th>\n",
       "      <td>4248.00</td>\n",
       "      <td>4248.00</td>\n",
       "      <td>4248.00</td>\n",
       "      <td>4248.00</td>\n",
       "      <td>4248.00</td>\n",
       "      <td>4248.00</td>\n",
       "      <td>4248.00</td>\n",
       "      <td>4248.00</td>\n",
       "      <td>4248.00</td>\n",
       "      <td>4248.00</td>\n",
       "      <td>4248.00</td>\n",
       "    </tr>\n",
       "    <tr>\n",
       "      <th>mean</th>\n",
       "      <td>74.83</td>\n",
       "      <td>100.82</td>\n",
       "      <td>60.91</td>\n",
       "      <td>175.65</td>\n",
       "      <td>84.43</td>\n",
       "      <td>749.38</td>\n",
       "      <td>104.29</td>\n",
       "      <td>31.19</td>\n",
       "      <td>61.10</td>\n",
       "      <td>192.99</td>\n",
       "      <td>54.06</td>\n",
       "    </tr>\n",
       "    <tr>\n",
       "      <th>std</th>\n",
       "      <td>66.24</td>\n",
       "      <td>92.60</td>\n",
       "      <td>79.55</td>\n",
       "      <td>148.89</td>\n",
       "      <td>67.25</td>\n",
       "      <td>661.03</td>\n",
       "      <td>94.34</td>\n",
       "      <td>27.02</td>\n",
       "      <td>101.71</td>\n",
       "      <td>151.13</td>\n",
       "      <td>32.35</td>\n",
       "    </tr>\n",
       "    <tr>\n",
       "      <th>min</th>\n",
       "      <td>0.00</td>\n",
       "      <td>-210.00</td>\n",
       "      <td>-320.00</td>\n",
       "      <td>0.00</td>\n",
       "      <td>0.00</td>\n",
       "      <td>-3534.00</td>\n",
       "      <td>-302.00</td>\n",
       "      <td>0.00</td>\n",
       "      <td>-638.00</td>\n",
       "      <td>17.00</td>\n",
       "      <td>10.00</td>\n",
       "    </tr>\n",
       "    <tr>\n",
       "      <th>25%</th>\n",
       "      <td>30.00</td>\n",
       "      <td>50.00</td>\n",
       "      <td>20.00</td>\n",
       "      <td>80.00</td>\n",
       "      <td>43.00</td>\n",
       "      <td>432.00</td>\n",
       "      <td>52.75</td>\n",
       "      <td>13.00</td>\n",
       "      <td>17.00</td>\n",
       "      <td>100.00</td>\n",
       "      <td>33.00</td>\n",
       "    </tr>\n",
       "    <tr>\n",
       "      <th>50%</th>\n",
       "      <td>50.00</td>\n",
       "      <td>70.00</td>\n",
       "      <td>40.00</td>\n",
       "      <td>130.00</td>\n",
       "      <td>60.00</td>\n",
       "      <td>619.00</td>\n",
       "      <td>76.00</td>\n",
       "      <td>22.00</td>\n",
       "      <td>40.00</td>\n",
       "      <td>138.00</td>\n",
       "      <td>46.00</td>\n",
       "    </tr>\n",
       "    <tr>\n",
       "      <th>75%</th>\n",
       "      <td>90.00</td>\n",
       "      <td>130.00</td>\n",
       "      <td>80.00</td>\n",
       "      <td>210.00</td>\n",
       "      <td>100.00</td>\n",
       "      <td>910.50</td>\n",
       "      <td>132.00</td>\n",
       "      <td>39.00</td>\n",
       "      <td>92.00</td>\n",
       "      <td>230.00</td>\n",
       "      <td>65.00</td>\n",
       "    </tr>\n",
       "    <tr>\n",
       "      <th>max</th>\n",
       "      <td>450.00</td>\n",
       "      <td>690.00</td>\n",
       "      <td>560.00</td>\n",
       "      <td>1140.00</td>\n",
       "      <td>364.00</td>\n",
       "      <td>8252.00</td>\n",
       "      <td>613.00</td>\n",
       "      <td>156.00</td>\n",
       "      <td>778.00</td>\n",
       "      <td>912.00</td>\n",
       "      <td>190.00</td>\n",
       "    </tr>\n",
       "  </tbody>\n",
       "</table>\n",
       "</div>"
      ],
      "text/plain": [
       "       Budget COGS  Budget Margin  Budget Profit  Budget Sales    COGS  \\\n",
       "count      4248.00        4248.00        4248.00       4248.00 4248.00   \n",
       "mean         74.83         100.82          60.91        175.65   84.43   \n",
       "std          66.24          92.60          79.55        148.89   67.25   \n",
       "min           0.00        -210.00        -320.00          0.00    0.00   \n",
       "25%          30.00          50.00          20.00         80.00   43.00   \n",
       "50%          50.00          70.00          40.00        130.00   60.00   \n",
       "75%          90.00         130.00          80.00        210.00  100.00   \n",
       "max         450.00         690.00         560.00       1140.00  364.00   \n",
       "\n",
       "       Inventory  Margin  Marketing  Profit   Sales  Total Expenses  \n",
       "count    4248.00 4248.00    4248.00 4248.00 4248.00         4248.00  \n",
       "mean      749.38  104.29      31.19   61.10  192.99           54.06  \n",
       "std       661.03   94.34      27.02  101.71  151.13           32.35  \n",
       "min     -3534.00 -302.00       0.00 -638.00   17.00           10.00  \n",
       "25%       432.00   52.75      13.00   17.00  100.00           33.00  \n",
       "50%       619.00   76.00      22.00   40.00  138.00           46.00  \n",
       "75%       910.50  132.00      39.00   92.00  230.00           65.00  \n",
       "max      8252.00  613.00     156.00  778.00  912.00          190.00  "
      ]
     },
     "execution_count": 11,
     "metadata": {},
     "output_type": "execute_result"
    }
   ],
   "source": [
    "# identifying the summary statistics in the data\n",
    "df.describe()"
   ]
  },
  {
   "cell_type": "code",
   "execution_count": 12,
   "id": "fc7c8301",
   "metadata": {},
   "outputs": [
    {
     "name": "stdout",
     "output_type": "stream",
     "text": [
      "The Unique Categories for Market are 4 namely:\n",
      "Central\n",
      "East\n",
      "South\n",
      "West\n",
      "\n",
      "\n",
      "The Unique Categories for Market Size are 2 namely:\n",
      "Major Market\n",
      "Small Market\n",
      "\n",
      "\n",
      "The Unique Categories for Product are 13 namely:\n",
      "Amaretto\n",
      "Colombian\n",
      "Decaf Irish Cream\n",
      "Green Tea\n",
      "Caffe Mocha\n",
      "Decaf Espresso\n",
      "Chamomile\n",
      "Lemon\n",
      "Mint\n",
      "Darjeeling\n",
      "Earl Grey\n",
      "Regular Espresso\n",
      "Caffe Latte\n",
      "\n",
      "\n",
      "The Unique Categories for Product are 2 namely:\n",
      "Beans\n",
      "Leaves\n",
      "\n",
      "\n",
      "The Unique Categories for Product Type are 4 namely:\n",
      "Coffee\n",
      "Tea\n",
      "Espresso\n",
      "Herbal Tea\n"
     ]
    }
   ],
   "source": [
    "# Finding the unique values for Market\n",
    "print (\"The Unique Categories for Market are\",df[\"Market\"].nunique(),\"namely:\")\n",
    "\n",
    "for unique_val in df[\"Market\"].unique():\n",
    "    print(unique_val)\n",
    "    \n",
    "print(\"\\n\")\n",
    "\n",
    "\n",
    "# Finding the unique values for Market Size\n",
    "print (\"The Unique Categories for Market Size are\",str(df[\"Market Size\"].nunique()),\"namely:\")\n",
    "\n",
    "for unique_val in df[\"Market Size\"].unique():\n",
    "    print(unique_val)\n",
    "    \n",
    "print(\"\\n\")\n",
    "\n",
    "\n",
    "# Finding the unique values for Product\n",
    "print (\"The Unique Categories for Product are\",df[\"Product\"].nunique(),\"namely:\")\n",
    "\n",
    "for unique_val in df[\"Product\"].unique():\n",
    "    print(unique_val)\n",
    "\n",
    "print(\"\\n\")\n",
    "\n",
    "\n",
    "# Finding the unique values for Product Line\n",
    "print (\"The Unique Categories for Product are\",df[\"Product Line\"].nunique(),\"namely:\")\n",
    "\n",
    "for unique_val in df[\"Product Line\"].unique():\n",
    "    print(unique_val)\n",
    "    \n",
    "print(\"\\n\")\n",
    "\n",
    "\n",
    "# Finding the unique values for Product Type\n",
    "print (\"The Unique Categories for Product Type are\",df[\"Product Type\"].nunique(),\"namely:\")\n",
    "\n",
    "for unique_val in df[\"Product Type\"].unique():\n",
    "    print(unique_val)"
   ]
  },
  {
   "cell_type": "code",
   "execution_count": 25,
   "id": "459c4b9d",
   "metadata": {},
   "outputs": [
    {
     "data": {
      "image/png": "[encoded data removed]",
      "text/plain": [
       "<Figure size 576x396 with 4 Axes>"
      ]
     },
     "metadata": {},
     "output_type": "display_data"
    }
   ],
   "source": [
    "df.loc[:,[\"Budget COGS\",\"Budget Margin\",\"Budget Profit\",\"Budget Sales\"]].hist()\n",
    "plt.show()"
   ]
  },
  {
   "cell_type": "code",
   "execution_count": 21,
   "id": "e7f6a2aa",
   "metadata": {},
   "outputs": [
    {
     "data": {
      "image/png": "[encoded data removed]",
      "text/plain": [
       "<Figure size 576x396 with 4 Axes>"
      ]
     },
     "metadata": {},
     "output_type": "display_data"
    }
   ],
   "source": [
    "df.loc[:,[\"COGS\",\"Margin\",\"Profit\",\"Sales\"]].hist()\n",
    "plt.show()"
   ]
  },
  {
   "cell_type": "code",
   "execution_count": 23,
   "id": "91053aab",
   "metadata": {},
   "outputs": [
    {
     "data": {
      "image/png": "[encoded data removed]",
      "text/plain": [
       "<Figure size 576x396 with 2 Axes>"
      ]
     },
     "metadata": {},
     "output_type": "display_data"
    }
   ],
   "source": [
    "df.loc[:,[\"Inventory\", \"Marketing\"]].hist()\n",
    "plt.show()"
   ]
  },
  {
   "cell_type": "code",
   "execution_count": 42,
   "id": "0981ccd5",
   "metadata": {},
   "outputs": [
    {
     "data": {
      "image/png": "[encoded data removed]",
      "text/plain": [
       "<Figure size 576x396 with 1 Axes>"
      ]
     },
     "metadata": {},
     "output_type": "display_data"
    }
   ],
   "source": [
    "df[\"Product\"].value_counts().plot(kind = \"bar\")\n",
    "plt.xlabel(\"Product\")\n",
    "plt.title(\"Distribution of Product\")\n",
    "plt.show()"
   ]
  },
  {
   "cell_type": "code",
   "execution_count": 40,
   "id": "0252792f",
   "metadata": {},
   "outputs": [
    {
     "data": {
      "image/png": "[encoded data removed]",
      "text/plain": [
       "<Figure size 576x396 with 1 Axes>"
      ]
     },
     "metadata": {},
     "output_type": "display_data"
    }
   ],
   "source": [
    "df[\"Product Type\"].value_counts().plot(kind = \"bar\")\n",
    "plt.xticks(rotation =0)\n",
    "plt.xlabel(\"Product Type\")\n",
    "plt.title(\"Distribution of Product Type\")\n",
    "plt.show()"
   ]
  },
  {
   "cell_type": "code",
   "execution_count": 41,
   "id": "05c9c886",
   "metadata": {},
   "outputs": [
    {
     "data": {
      "image/png": "[encoded data removed]",
      "text/plain": [
       "<Figure size 576x396 with 1 Axes>"
      ]
     },
     "metadata": {},
     "output_type": "display_data"
    }
   ],
   "source": [
    "df[\"Product Line\"].value_counts().plot(kind = \"bar\")\n",
    "plt.xticks(rotation =0)\n",
    "plt.xlabel(\"Product Line\")\n",
    "plt.title(\"Distribution of Product Line\")\n",
    "plt.show()"
   ]
  },
  {
   "cell_type": "code",
   "execution_count": 45,
   "id": "69b4491a",
   "metadata": {},
   "outputs": [
    {
     "data": {
      "image/png": "[encoded data removed]",
      "text/plain": [
       "<Figure size 576x396 with 1 Axes>"
      ]
     },
     "metadata": {},
     "output_type": "display_data"
    }
   ],
   "source": [
    "df[[\"Profit\"]].boxplot()\n",
    "plt.show()"
   ]
  },
  {
   "cell_type": "code",
   "execution_count": 46,
   "id": "93bef0c7",
   "metadata": {},
   "outputs": [
    {
     "data": {
      "image/png": "[encoded data removed]",
      "text/plain": [
       "<Figure size 576x396 with 1 Axes>"
      ]
     },
     "metadata": {},
     "output_type": "display_data"
    }
   ],
   "source": [
    "df[[\"Sales\"]].boxplot()\n",
    "plt.show()"
   ]
  },
  {
   "cell_type": "code",
   "execution_count": 50,
   "id": "5fa32cbd",
   "metadata": {},
   "outputs": [
    {
     "data": {
      "image/png": "[encoded data removed]",
      "text/plain": [
       "<Figure size 1080x576 with 1 Axes>"
      ]
     },
     "metadata": {},
     "output_type": "display_data"
    }
   ],
   "source": [
    "# Grouping the data by 'Market' and 'Product' and count the occurrences\n",
    "product_market_counts = df.groupby(['Market', 'Product']).size().unstack(fill_value=0)\n",
    "\n",
    "# Creating a bar chart\n",
    "product_market_counts.plot(kind='bar', stacked=True, figsize=(15, 8))\n",
    "\n",
    "# Setting plot labels and title\n",
    "plt.xlabel('Market')\n",
    "plt.ylabel('Count')\n",
    "plt.title('Product Distribution Across Markets')\n",
    "plt.xticks(rotation = 0)\n",
    "\n",
    "# Displaying the chart\n",
    "plt.legend(title='Product', bbox_to_anchor=(1, 1))\n",
    "plt.tight_layout()\n",
    "plt.show()"
   ]
  },
  {
   "cell_type": "code",
   "execution_count": 48,
   "id": "fded723f",
   "metadata": {},
   "outputs": [
    {
     "name": "stdout",
     "output_type": "stream",
     "text": [
      "Data saved to /Users/hayfordatimtyler/Documents/UC Berkeley/Python Study/Projects/Coffee_clean.csv\n"
     ]
    }
   ],
   "source": [
    "# Saving the file on my computer\n",
    "file_path = \"/Users/hayfordatimtyler/Documents/UC Berkeley/Python Study/Projects/Coffee_clean.csv\"\n",
    "\n",
    "df.to_csv(file_path, index = False)\n",
    "print(f\"Data saved to {file_path}\")"
   ]
  },
  {
   "cell_type": "code",
   "execution_count": null,
   "id": "dd985212",
   "metadata": {},
   "outputs": [],
   "source": []
  }
 ],
 "metadata": {
  "kernelspec": {
   "display_name": "Python 3",
   "language": "python",
   "name": "python3"
  },
  "language_info": {
   "codemirror_mode": {
    "name": "ipython",
    "version": 3
   },
   "file_extension": ".py",
   "mimetype": "text/x-python",
   "name": "python",
   "nbconvert_exporter": "python",
   "pygments_lexer": "ipython3",
   "version": "3.8.8"
  }
 },
 "nbformat": 4,
 "nbformat_minor": 5
}
